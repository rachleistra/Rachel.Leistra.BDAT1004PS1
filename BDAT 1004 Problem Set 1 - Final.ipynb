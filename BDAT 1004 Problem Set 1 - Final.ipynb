{
 "cells": [
  {
   "cell_type": "markdown",
   "metadata": {},
   "source": [
    "# Question 1 (C#): Data Types\n",
    "What data type is each of the following?\n",
    "\n",
    "|Example         |Answer|\n",
    "|:---            |------:\n",
    "|5               |Integer|\n",
    "|5.0             |Float|\n",
    "|5 > 1           |Boolean|\n",
    "|'5'             |Character|\n",
    "|5 * 2           |Integer|\n",
    "|'5' * 2         |Type Error|\n",
    "|'5' + '2'       |Character |\n",
    "|5 / 2           |Integer |\n",
    "|5 // 2          |Integer |\n",
    "|[5, 2, 1]       |Pointer|\n",
    "|5 in [1, 4, 6]  |Pointer |\n",
    "|Pi (the number) |Decimal|"
   ]
  },
  {
   "cell_type": "markdown",
   "metadata": {},
   "source": [
    "# Question 2 (.net C#): Length\n",
    "\n",
    "Write (and evaluate) C# expressions that answer these questions:\n",
    "- How many letters are there in 'Supercalifragilisticexpialidocious'?\n",
    "- Does 'Supercalifragilisticexpialidocious' contain 'ice' as a substring? \n",
    "- Which of the following words is the longest:\n",
    "    - Supercalifragilisticexpialidocious, Honorificabilitudinitatibus, or\n",
    "Bababadalgharaghtakamminarronnkonn?\n",
    "- Which composer comes first in the dictionary: \n",
    "    - 'Berlioz', 'Borodin', 'Brian', 'Bartok', 'Bellini', 'Buxtehude', 'Bernstein'. Which one comes last?"
   ]
  },
  {
   "cell_type": "code",
   "execution_count": null,
   "metadata": {},
   "outputs": [],
   "source": [
    "//Point 1\n",
    "\n",
    "string s = \"Supercalifragilisticexpialidocious\";\n",
    "//Finding the index of the last instance of letter 's'\n",
    "int i1 = s.LastIndexOf('s');\n",
    "//Adding one to the index to account for zero-based\n",
    "int finalS = i1 + 1;\n",
    "Console.WriteLine(\"A. There are \" + finalS + \" letters in 'supercalifragilisticexpialidocious.'\");"
   ]
  },
  {
   "cell_type": "code",
   "execution_count": null,
   "metadata": {},
   "outputs": [],
   "source": [
    "//Point 2\n",
    "string s = \"Supercalifragilisticexpialidocious\";\n",
    "s.Contains(\"ice\")"
   ]
  },
  {
   "cell_type": "code",
   "execution_count": null,
   "metadata": {},
   "outputs": [],
   "source": [
    "//Point 3\n",
    "\n",
    "//Loading the strings\n",
    "string s = \"Supercalifragilisticexpialidocious\";\n",
    "string h = \"Honorificabilitudinitatibus\";\n",
    "string b = \"Bababadalgharaghtakamminarronnkonn\";\n",
    "\n",
    "//Finding the indexes and adding 1 to account for zero-based\n",
    "int i1 = s.LastIndexOf('s');\n",
    "int finalS = i1 + 1;\n",
    "\n",
    "int i2 = h.LastIndexOf('s');\n",
    "int finalH = i2 + 1;\n",
    "\n",
    "int i3 = b.LastIndexOf('n');\n",
    "int finalB = i3 + 1;\n",
    "\n",
    "//Finding largest word\n",
    "//checking for one longest\n",
    "if ((finalS > finalH)&&(finalS > finalB))\n",
    "{\n",
    "Console.WriteLine(s + \" is the longest word.\");\n",
    "}\n",
    "\n",
    "if ((finalH > finalS)&&(finalH > finalB))\n",
    "{\n",
    "Console.WriteLine(h + \" is the longest word.\");\n",
    "}\n",
    "\n",
    "if ((finalB > finalS)&&(finalB > finalH))\n",
    "{\n",
    "Console.WriteLine(b + \" is the longest word.\");\n",
    "}\n",
    "\n",
    "//checking for two-way tie\n",
    "if ((finalS==finalH)&&(finalS>finalB))\n",
    "{\n",
    "Console.WriteLine(s + \" and \" + h + \" are tied as the longest word.\");\n",
    "}\n",
    "\n",
    "if ((finalS==finalB)&&(finalS>finalH))\n",
    "{\n",
    "Console.WriteLine(s + \" and \" + b + \" are tied as the longest word.\");\n",
    "}\n",
    "\n",
    "if ((finalB==finalH)&&(finalB>finalS))\n",
    "{\n",
    "Console.WriteLine(b + \" and \" + h + \" are tied as the longest word.\");\n",
    "}\n",
    "\n",
    "//checking for three-way tie\n",
    "if ((finalB==finalH)&&(finalB==finalS))\n",
    "{\n",
    "Console.WriteLine(\"There is a three-way tie for longest word.\");\n",
    "}\n"
   ]
  },
  {
   "cell_type": "code",
   "execution_count": null,
   "metadata": {},
   "outputs": [],
   "source": [
    "//I used this video to help me better understand SortedLists, keys, and how to use them: https://www.youtube.com/watch?v=CQyXJes73cQ\n",
    "//Point 4\n",
    "//Create sorted list and add names\n",
    "SortedList names = new SortedList(); \n",
    "           names.Add(\"Berlioz\", \"1\"); \n",
    "           names.Add(\"Borodin\", \"1\"); \n",
    "           names.Add(\"Brian\", \"1\"); \n",
    "           names.Add(\"Bartok\", \"1\"); \n",
    "           names.Add(\"Bellini\", \"1\"); \n",
    "           names.Add(\"Buxtehude\", \"1\"); \n",
    "           names.Add(\"Bernstein\", \"1\"); \n",
    "            \n",
    "//The list will sort alphabetically, this calls the first name in the list        \n",
    "Console.WriteLine($\"The first name in the dictionary is {names.GetKey(0)}.\");"
   ]
  },
  {
   "cell_type": "markdown",
   "metadata": {},
   "source": [
    "# Question 3 (C#): triangleArea\n",
    "#### Note: Console.ReadLine commands do not currently function  in .NET\n",
    "\n",
    "Implement function triangleArea(a,b,c) that takes as input the lengths of the 3\n",
    "sides of a triangle and returns the area of the triangle. By Heron's formula, the area\n",
    "of a triangle with side lengths a, b, and c is\n",
    "\n",
    "s(s - a)(s -b)(s -c), where\n",
    "s = (a+b+c)/2. "
   ]
  },
  {
   "cell_type": "code",
   "execution_count": null,
   "metadata": {},
   "outputs": [],
   "source": [
    "using System;\n",
    "\n",
    "namespace BDAT_1004_Assignment_1\n",
    "{\n",
    "    class Program\n",
    "    {\n",
    "        static void Main(string[] args)\n",
    "        {\n",
    "//Getting side lengths\n",
    "            Console.WriteLine(\"Enter the first triangle side length:\");\n",
    "            int a = Convert.ToInt32(Console.ReadLine());\n",
    "\n",
    "            Console.WriteLine(\"Enter the second triangle side length:\");\n",
    "            int b = Convert.ToInt32(Console.ReadLine());\n",
    "\n",
    "            Console.WriteLine(\"Enter the third triangle side length:\");\n",
    "            int c = Convert.ToInt32(Console.ReadLine());\n",
    "\n",
    "//Performing formulas\n",
    "            \n",
    "            int s = ((a + b + c) / 2);\n",
    "            int ar = (s * ((s - a) * (s - b) * (s - c)));\n",
    "            \n",
    "//Getting final answer\n",
    "            Console.WriteLine(\"The area of the triangle is {0}.\", ar);\n",
    "        }\n",
    "    }\n",
    "}\n"
   ]
  },
  {
   "cell_type": "markdown",
   "metadata": {},
   "source": [
    "# Question 4 (.net C#)\n",
    "\n",
    "Write a program in C# Sharp to separate odd and even integers in separate arrays.\n",
    "\n",
    "Go to the editor\n",
    "\n",
    "Test Data:\n",
    "\n",
    "Input the number of elements to be stored in the array :5\n",
    "\n",
    "Input 5 elements in the array :\n",
    "\n",
    "element - 0 : 25\n",
    "\n",
    "element - 1 : 47\n",
    "\n",
    "element - 2 : 42\n",
    "\n",
    "element - 3 : 56\n",
    "\n",
    "element - 4 : 32\n",
    "\n",
    "\n",
    "Expected Output:\n",
    "\n",
    "The Even elements are: 42 56 32\n",
    "\n",
    "The Odd elements are: 25 47"
   ]
  },
  {
   "cell_type": "code",
   "execution_count": null,
   "metadata": {},
   "outputs": [],
   "source": [
    "using System;\n",
    "\n",
    "namespace Hello_World\n",
    "{\n",
    "    class Program\n",
    "    {\n",
    "        static void Main(string[] args)\n",
    "        {\n",
    "\n",
    "//collecting the entries\n",
    "            int[] arr = new int[5];\n",
    "            Console.WriteLine(\"Enter the first number (25):\");\n",
    "            arr[0] = Convert.ToInt32(Console.ReadLine());\n",
    "\n",
    "            Console.WriteLine(\"Enter the second number (32):\");\n",
    "            arr[1] = Convert.ToInt32(Console.ReadLine());\n",
    "\n",
    "            Console.WriteLine(\"Enter the third number (42):\");\n",
    "            arr[2] = Convert.ToInt32(Console.ReadLine());\n",
    "\n",
    "            Console.WriteLine(\"Enter the fourth number (47):\");\n",
    "            arr[3] = Convert.ToInt32(Console.ReadLine());\n",
    "\n",
    "            Console.WriteLine(\"Enter the fifth number (56):\");\n",
    "            arr[4] = Convert.ToInt32(Console.ReadLine());\n",
    "\n",
    "//checking first array\n",
    "            for (int i = 0; i < arr.Length; i++)\n",
    "            {\n",
    "                Console.WriteLine(arr[i]);\n",
    "            }\n",
    "\n",
    "//sorting numbers\n",
    "            for (int i = 0; i < arr.Length; i++)\n",
    "            {\n",
    "                if (arr[i] % 2 == 0) \n",
    "                Console.WriteLine(\"Even numbers: \" + arr[i]);\n",
    "\n",
    "                if (arr[i] % 2 != 0)\n",
    "                    Console.WriteLine(\"Odd numbers: \" + arr[i]);\n",
    "            }\n",
    "        \n",
    "        }\n",
    "    }\n",
    "}\n",
    " "
   ]
  },
  {
   "cell_type": "markdown",
   "metadata": {},
   "source": [
    "# Question 5 (.net C#): inside()\n",
    "\n",
    "a. Write a function inside(x,y,x1,y1,x2,y2) that returns True or False\n",
    "depending on whether the point (x,y) lies in the rectangle with lower left\n",
    "corner (x1,y1) and upper right corner (x2,y2).\n",
    "\n",
    "b. Use function inside() from part a. to write an expression that tests whether\n",
    "the point (1,1) lies in both of the following rectangles: one with lower left\n",
    "corner (0.3, 0.5) and upper right corner (1.1, 0.7) and the other with lower\n",
    "left corner (0.5, 0.2) and upper right corner (1.1, 2)."
   ]
  },
  {
   "cell_type": "code",
   "execution_count": null,
   "metadata": {},
   "outputs": [],
   "source": [
    "// I was having difficulty with this question and found the following site useful for help with formatting the nested if else statements: https://www.tutorialspoint.com/csharp/if_else_statement_in_csharp.htm#:~:text=C#%20-%20if...else%20Statement%201%20Syntax.%20If%20the,using%20single%20if...else%20if%20statement.%20More%20items...\n",
    "// I also struggled with defining the function and used this site to learn more about that: https://www.tutorialkart.com/c-sharp-tutorial/c-sharp-error-class-does-not-contain-a-constructor-that-takes-arguments/\n",
    "\n",
    "// Part A:\n",
    "\n",
    "using System;\n",
    "\n",
    "namespace BDAT_1004_Assignment_1\n",
    "{\n",
    "    class inside\n",
    "    {\n",
    "        public static double x;\n",
    "        public static double y;\n",
    "        public static double x1;\n",
    "        public static double y1;\n",
    "        public static double x2;\n",
    "        public static double y2;\n",
    "        public inside(double x, double y, double x1, double y1, double x2, double y2)\n",
    "        {\n",
    "\n",
    "        }\n",
    "\n",
    "        static void Main(string[] args)\n",
    "        {            \n",
    "            inside program = new inside(x,y,x1,y1,x2,y2) ;\n",
    "\n",
    "//checking for difference between point and corners\n",
    "            \n",
    "            double a = (x - x1);\n",
    "            double b = (x2 - x);\n",
    "            double c = (y - y1);\n",
    "            double d = (y2 - y);\n",
    "\n",
    "//setting statements to determine if the point is in the rectangle\n",
    "            \n",
    "            if (a < x1)\n",
    "            {\n",
    "                Console.WriteLine(\"False\");\n",
    "            }\n",
    "            else if (b > x2) {\n",
    "                Console.WriteLine(\"False\");\n",
    "            }\n",
    "            else if (c < y1)\n",
    "            {\n",
    "                Console.WriteLine(\"False\");\n",
    "            }\n",
    "            else if (d > y2)\n",
    "            {\n",
    "                Console.WriteLine(\"False\");\n",
    "            }\n",
    "            else\n",
    "            {\n",
    "                Console.WriteLine(\"True\");\n",
    "            }\n",
    "\n",
    "        }\n",
    "     }\n",
    "}"
   ]
  },
  {
   "cell_type": "code",
   "execution_count": null,
   "metadata": {},
   "outputs": [],
   "source": [
    "// Part B:\n",
    "inside(1,1,0.3,0.5,1.1,0.7);\n",
    "inside(1,1,0.5,0.2,1.1,2);"
   ]
  },
  {
   "cell_type": "markdown",
   "metadata": {},
   "source": [
    "# Question 6: Pig Latin Function\n",
    "You can turn a word into pig-Latin using the following two rules (simplified):\n",
    "- If the word starts with a consonant, move that letter to the end and append 'ay'. For example, 'happy' becomes 'appyhay' and 'pencil' becomes 'encilpay'.\n",
    "- If the word starts with a vowel, simply append 'way' to the end of the word.\n",
    "\n",
    "For example, 'enter' becomes 'enterway' and 'other' becomes 'otherway'. For our purposes, there are 5 vowels: a, e, i, o, u (so we count y as a consonant).\n",
    "\n",
    "Write a function pig() that takes a word (i.e., a string) as input and returns its pigLatin form. Your function should still work if the input word contains upper case characters. Your output should always be lower case however.\n",
    "\n",
    "pig('happy') -> 'appyhay'\n",
    "\n",
    "\n",
    "pig('Enter') -> 'enterway' "
   ]
  },
  {
   "cell_type": "code",
   "execution_count": 14,
   "metadata": {
    "collapsed": true
   },
   "outputs": [
    {
     "name": "stdout",
     "output_type": "stream",
     "text": [
      "achelray\n",
      "alexandraway\n"
     ]
    }
   ],
   "source": [
    "#defining the function\n",
    "def pig(string):\n",
    "    #setting up the background knowledge\n",
    "    vowels = ['a', 'e', 'i', 'o', 'u']\n",
    "    x = string.lower()\n",
    "    if x[0] in vowels:\n",
    "        y=x+'way'\n",
    "    if x[0] not in vowels:\n",
    "        y=x[1:]+x[0]+'ay'\n",
    "    return(y)\n",
    "#testing\n",
    "print(pig('Rachel'))\n",
    "print(pig('Alexandra'))"
   ]
  },
  {
   "cell_type": "markdown",
   "metadata": {},
   "source": [
    "# Question 7: bldcount()\n",
    "File bloodtype1.txt records blood-types of patients (A, B, AB, O or OO) at a clinic.\n",
    "\n",
    "Write a function bldcount() that reads the file with name name and reports (i.e., prints) how many patients there are in each bloodtype.\n",
    "\n",
    "bldcount('bloodtype.txt')\n",
    "There are 10 patients of blood type A.\n",
    "There is one patient of blood type B.\n",
    "There are 10 patients of blood type AB.\n",
    "There are 12 patients of blood type O.\n",
    "There are no patients of blood type OO.\n"
   ]
  },
  {
   "cell_type": "code",
   "execution_count": 15,
   "metadata": {
    "collapsed": true
   },
   "outputs": [
    {
     "name": "stdout",
     "output_type": "stream",
     "text": [
      "There are 15 patients of blood type A\n",
      "There are 1 patients of blood type A\n",
      "There are 13 patients of blood type A\n",
      "There are 15 patients of blood type A\n",
      "There are 0 patients of blood type A\n"
     ]
    }
   ],
   "source": [
    "def bldcount(file):\n",
    "#read file\n",
    "    infile = open(file)\n",
    "    content = infile.read()\n",
    "    infile.close()\n",
    "#counting types\n",
    "    total = content.split()\n",
    "    a = (content.count('A '))\n",
    "    b = (content.count(' B'))\n",
    "    ab = (content.count('AB'))\n",
    "    o = (content.count('O'))\n",
    "    oo =(content.count('OO'))\n",
    "#getting answers\n",
    "    print('There are ' + str(a) + ' patients of blood type A')\n",
    "    print('There are ' + str(b) + ' patients of blood type A')\n",
    "    print('There are ' + str(ab) + ' patients of blood type A')\n",
    "    print('There are ' + str(o) + ' patients of blood type A')\n",
    "    print('There are ' + str(oo) + ' patients of blood type A')\n",
    "\n",
    "bldcount('bloodtype1.txt')"
   ]
  },
  {
   "cell_type": "markdown",
   "metadata": {},
   "source": [
    "# Question 8: curconv()\n",
    "Write a function curconv() that takes as input:\n",
    "1. a currency represented using a string (e.g., 'JPY' for the Japanese Yen or\n",
    "'EUR' for the Euro)\n",
    "2. an amount\n",
    "and then converts and returns the amount in US dollars."
   ]
  },
  {
   "cell_type": "code",
   "execution_count": 6,
   "metadata": {},
   "outputs": [
    {
     "data": {
      "text/plain": [
       "1.2414"
      ]
     },
     "execution_count": 6,
     "metadata": {},
     "output_type": "execute_result"
    }
   ],
   "source": [
    "def curconv(CUR, x):\n",
    "#reading file\n",
    "    infile = open('currencies.txt')\n",
    "    content = infile.read()\n",
    "    infile.close\n",
    "#searching for parameter defined in function\n",
    "    n = content.find(CUR)\n",
    "#doing calculation\n",
    "    y = content[n+4:n+13]\n",
    "    final = float(y)\n",
    "    toUSD = x*final\n",
    "    return(toUSD)\n",
    "#testing\n",
    "curconv('JPY', 100)"
   ]
  },
  {
   "cell_type": "markdown",
   "metadata": {},
   "source": [
    "# Question 9: Errors\n",
    "Each of the following will cause an exception (an error). Identify what type of\n",
    "exception each will cause.\n",
    "\n",
    "|Example                                                                                                       |Type of error|\n",
    "|:---                                                                                                          |-----------------:\n",
    "|Trying to add incompatible variables, as in adding 6 + ‘a’                                                    |Type error|\n",
    "|Referring to the 12th item of a list that has only 10 items                                                   |Index error|\n",
    "|Using a value that is out of range for a function’s input, such as calling math.sqrt(-1.0)                    |Erroneous state error|  \n",
    "|Using an undeclared variable, such as print(x) when x has not been defined                                    |Name error|  \n",
    "|Trying to open a file that does not exist, such as mistyping the file name or looking in the wrong directory. |Synax error|\n",
    "\n"
   ]
  },
  {
   "cell_type": "markdown",
   "metadata": {},
   "source": [
    "# Question 10: Encryption\n",
    "\n",
    "Encryption is the process of hiding the meaning of a text by substituting letters in the message with other letters, according to some system. If the process is successful, no one but the intended recipient can understand the encrypted message. \n",
    "\n",
    "Cryptanalysis refers to attempts to undo the encryption, even if some details of the encryption are unknown (for example, if an encrypted message has been intercepted). The first step of cryptanalysis is often to build up a table of letter frequencies in the encrypted text.\n",
    "\n",
    "Assume that the string letters is already defined as 'abcdefghijklmnopqrstuvwxyz'. Write a function called frequencies() that takes a string as its only parameter, and returns a list of integers, showing the number of times each character appears in the text. Your function may ignore any characters that are not in letters. "
   ]
  },
  {
   "cell_type": "code",
   "execution_count": 7,
   "metadata": {},
   "outputs": [
    {
     "name": "stdout",
     "output_type": "stream",
     "text": [
      "hellothere\n",
      "2\n",
      "3\n",
      "2\n",
      "2\n",
      "1\n",
      "1\n",
      "2\n",
      "3\n",
      "1\n",
      "3\n"
     ]
    }
   ],
   "source": [
    "def frequencies(string):\n",
    "#formatting entry\n",
    "    lower = string.lower()\n",
    "    noSpaces = lower.replace(' ','')\n",
    "#creating variable\n",
    "    x = noSpaces[0:]\n",
    "#showing text\n",
    "    print(x)\n",
    "#calculating duplicates\n",
    "    for char in x:\n",
    "        print(x.count(char))\n",
    "#testing\n",
    "frequencies('Hello there')"
   ]
  }
 ],
 "metadata": {
  "kernelspec": {
   "display_name": "Python 3",
   "language": "python",
   "name": "python3"
  },
  "language_info": {
   "codemirror_mode": {
    "name": "ipython",
    "version": 3
   },
   "file_extension": ".py",
   "mimetype": "text/x-python",
   "name": "python",
   "nbconvert_exporter": "python",
   "pygments_lexer": "ipython3",
   "version": "3.8.5"
  }
 },
 "nbformat": 4,
 "nbformat_minor": 4
}
